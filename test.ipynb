{
 "cells": [
  {
   "cell_type": "code",
   "execution_count": 1,
   "metadata": {},
   "outputs": [],
   "source": [
    "import requests"
   ]
  },
  {
   "cell_type": "code",
   "execution_count": 10,
   "metadata": {},
   "outputs": [
    {
     "name": "stdout",
     "output_type": "stream",
     "text": [
      "200\n"
     ]
    }
   ],
   "source": [
    "url = 'https://quotes.toscrape.com/'\n",
    "\n",
    "r = requests.get(url)\n",
    "print(r.status_code)"
   ]
  },
  {
   "cell_type": "code",
   "execution_count": 16,
   "metadata": {},
   "outputs": [
    {
     "name": "stdout",
     "output_type": "stream",
     "text": [
      "['<!DOCTYPE html>', '<html lang=\"en\">', '<head>', '\\t<meta charset=\"UTF-8\">', '\\t<title>Quotes to Scrape</title>', '    <link rel=\"stylesheet\" href=\"/static/bootstrap.min.css\">', '    <link rel=\"stylesheet\" href=\"/static/main.css\">', '</head>', '<body>', '    <div class=\"container\">', '        <div class=\"row header-box\">', '            <div class=\"col-md-8\">', '                <h1>', '                    <a href=\"/\" style=\"text-decoration: none\">Quotes to Scrape</a>', '                </h1>', '            </div>', '            <div class=\"col-md-4\">', '                <p>', '                ', '                    <a href=\"/login\">Login</a>', '                ', '                </p>', '            </div>', '        </div>', '    ', '', '<div class=\"row\">', '    <div class=\"col-md-8\">', '', '    <div class=\"quote\" itemscope itemtype=\"http://schema.org/CreativeWork\">', '        <span class=\"text\" itemprop=\"text\">“The world as we have created it is a process of our thinking. It cannot be changed without changing our thinking.”</span>', '        <span>by <small class=\"author\" itemprop=\"author\">Albert Einstein</small>', '        <a href=\"/author/Albert-Einstein\">(about)</a>', '        </span>', '        <div class=\"tags\">', '            Tags:', '            <meta class=\"keywords\" itemprop=\"keywords\" content=\"change,deep-thoughts,thinking,world\" /    > ', '            ', '            <a class=\"tag\" href=\"/tag/change/page/1/\">change</a>', '            ', '            <a class=\"tag\" href=\"/tag/deep-thoughts/page/1/\">deep-thoughts</a>', '            ', '            <a class=\"tag\" href=\"/tag/thinking/page/1/\">thinking</a>', '            ', '            <a class=\"tag\" href=\"/tag/world/page/1/\">world</a>', '            ', '        </div>', '    </div>', '', '    <div class=\"quote\" itemscope itemtype=\"http://schema.org/CreativeWork\">', '        <span class=\"text\" itemprop=\"text\">“It is our choices, Harry, that show what we truly are, far more than our abilities.”</span>', '        <span>by <small class=\"author\" itemprop=\"author\">J.K. Rowling</small>', '        <a href=\"/author/J-K-Rowling\">(about)</a>', '        </span>', '        <div class=\"tags\">', '            Tags:', '            <meta class=\"keywords\" itemprop=\"keywords\" content=\"abilities,choices\" /    > ', '            ', '            <a class=\"tag\" href=\"/tag/abilities/page/1/\">abilities</a>', '            ', '            <a class=\"tag\" href=\"/tag/choices/page/1/\">choices</a>', '            ', '        </div>', '    </div>', '', '    <div class=\"quote\" itemscope itemtype=\"http://schema.org/CreativeWork\">', '        <span class=\"text\" itemprop=\"text\">“There are only two ways to live your life. One is as though nothing is a miracle. The other is as though everything is a miracle.”</span>', '        <span>by <small class=\"author\" itemprop=\"author\">Albert Einstein</small>', '        <a href=\"/author/Albert-Einstein\">(about)</a>', '        </span>', '        <div class=\"tags\">', '            Tags:', '            <meta class=\"keywords\" itemprop=\"keywords\" content=\"inspirational,life,live,miracle,miracles\" /    > ', '            ', '            <a class=\"tag\" href=\"/tag/inspirational/page/1/\">inspirational</a>', '            ', '            <a class=\"tag\" href=\"/tag/life/page/1/\">life</a>', '            ', '            <a class=\"tag\" href=\"/tag/live/page/1/\">live</a>', '            ', '            <a class=\"tag\" href=\"/tag/miracle/page/1/\">miracle</a>', '            ', '            <a class=\"tag\" href=\"/tag/miracles/page/1/\">miracles</a>', '            ', '        </div>', '    </div>', '', '    <div class=\"quote\" itemscope itemtype=\"http://schema.org/CreativeWork\">', '        <span class=\"text\" itemprop=\"text\">“The person, be it gentleman or lady, who has not pleasure in a good novel, must be intolerably stupid.”</span>', '        <span>by <small class=\"author\" itemprop=\"author\">Jane Austen</small>', '        <a href=\"/author/Jane-Austen\">(about)</a>', '        </span>', '        <div class=\"tags\">', '            Tags:', '            <meta class=\"keywords\" itemprop=\"keywords\" content=\"aliteracy,books,classic,humor\" /    > ', '            ', '            <a class=\"tag\" href=\"/tag/aliteracy/page/1/\">aliteracy</a>', '            ', '            <a class=\"tag\" href=\"/tag/books/page/1/\">books</a>', '            ', '            <a class=\"tag\" href=\"/tag/classic/page/1/\">classic</a>', '            ', '            <a class=\"tag\" href=\"/tag/humor/page/1/\">humor</a>', '            ', '        </div>', '    </div>', '', '    <div class=\"quote\" itemscope itemtype=\"http://schema.org/CreativeWork\">', '        <span class=\"text\" itemprop=\"text\">“Imperfection is beauty, madness is genius and it&#39;s better to be absolutely ridiculous than absolutely boring.”</span>', '        <span>by <small class=\"author\" itemprop=\"author\">Marilyn Monroe</small>', '        <a href=\"/author/Marilyn-Monroe\">(about)</a>', '        </span>', '        <div class=\"tags\">', '            Tags:', '            <meta class=\"keywords\" itemprop=\"keywords\" content=\"be-yourself,inspirational\" /    > ', '            ', '            <a class=\"tag\" href=\"/tag/be-yourself/page/1/\">be-yourself</a>', '            ', '            <a class=\"tag\" href=\"/tag/inspirational/page/1/\">inspirational</a>', '            ', '        </div>', '    </div>', '', '    <div class=\"quote\" itemscope itemtype=\"http://schema.org/CreativeWork\">', '        <span class=\"text\" itemprop=\"text\">“Try not to become a man of success. Rather become a man of value.”</span>', '        <span>by <small class=\"author\" itemprop=\"author\">Albert Einstein</small>', '        <a href=\"/author/Albert-Einstein\">(about)</a>', '        </span>', '        <div class=\"tags\">', '            Tags:', '            <meta class=\"keywords\" itemprop=\"keywords\" content=\"adulthood,success,value\" /    > ', '            ', '            <a class=\"tag\" href=\"/tag/adulthood/page/1/\">adulthood</a>', '            ', '            <a class=\"tag\" href=\"/tag/success/page/1/\">success</a>', '            ', '            <a class=\"tag\" href=\"/tag/value/page/1/\">value</a>', '            ', '        </div>', '    </div>', '', '    <div class=\"quote\" itemscope itemtype=\"http://schema.org/CreativeWork\">', '        <span class=\"text\" itemprop=\"text\">“It is better to be hated for what you are than to be loved for what you are not.”</span>', '        <span>by <small class=\"author\" itemprop=\"author\">André Gide</small>', '        <a href=\"/author/Andre-Gide\">(about)</a>', '        </span>', '        <div class=\"tags\">', '            Tags:', '            <meta class=\"keywords\" itemprop=\"keywords\" content=\"life,love\" /    > ', '            ', '            <a class=\"tag\" href=\"/tag/life/page/1/\">life</a>', '            ', '            <a class=\"tag\" href=\"/tag/love/page/1/\">love</a>', '            ', '        </div>', '    </div>', '', '    <div class=\"quote\" itemscope itemtype=\"http://schema.org/CreativeWork\">', '        <span class=\"text\" itemprop=\"text\">“I have not failed. I&#39;ve just found 10,000 ways that won&#39;t work.”</span>', '        <span>by <small class=\"author\" itemprop=\"author\">Thomas A. Edison</small>', '        <a href=\"/author/Thomas-A-Edison\">(about)</a>', '        </span>', '        <div class=\"tags\">', '            Tags:', '            <meta class=\"keywords\" itemprop=\"keywords\" content=\"edison,failure,inspirational,paraphrased\" /    > ', '            ', '            <a class=\"tag\" href=\"/tag/edison/page/1/\">edison</a>', '            ', '            <a class=\"tag\" href=\"/tag/failure/page/1/\">failure</a>', '            ', '            <a class=\"tag\" href=\"/tag/inspirational/page/1/\">inspirational</a>', '            ', '            <a class=\"tag\" href=\"/tag/paraphrased/page/1/\">paraphrased</a>', '            ', '        </div>', '    </div>', '', '    <div class=\"quote\" itemscope itemtype=\"http://schema.org/CreativeWork\">', '        <span class=\"text\" itemprop=\"text\">“A woman is like a tea bag; you never know how strong it is until it&#39;s in hot water.”</span>', '        <span>by <small class=\"author\" itemprop=\"author\">Eleanor Roosevelt</small>', '        <a href=\"/author/Eleanor-Roosevelt\">(about)</a>', '        </span>', '        <div class=\"tags\">', '            Tags:', '            <meta class=\"keywords\" itemprop=\"keywords\" content=\"misattributed-eleanor-roosevelt\" /    > ', '            ', '            <a class=\"tag\" href=\"/tag/misattributed-eleanor-roosevelt/page/1/\">misattributed-eleanor-roosevelt</a>', '            ', '        </div>', '    </div>', '', '    <div class=\"quote\" itemscope itemtype=\"http://schema.org/CreativeWork\">', '        <span class=\"text\" itemprop=\"text\">“A day without sunshine is like, you know, night.”</span>', '        <span>by <small class=\"author\" itemprop=\"author\">Steve Martin</small>', '        <a href=\"/author/Steve-Martin\">(about)</a>', '        </span>', '        <div class=\"tags\">', '            Tags:', '            <meta class=\"keywords\" itemprop=\"keywords\" content=\"humor,obvious,simile\" /    > ', '            ', '            <a class=\"tag\" href=\"/tag/humor/page/1/\">humor</a>', '            ', '            <a class=\"tag\" href=\"/tag/obvious/page/1/\">obvious</a>', '            ', '            <a class=\"tag\" href=\"/tag/simile/page/1/\">simile</a>', '            ', '        </div>', '    </div>', '', '    <nav>', '        <ul class=\"pager\">', '            ', '            ', '            <li class=\"next\">', '                <a href=\"/page/2/\">Next <span aria-hidden=\"true\">&rarr;</span></a>', '            </li>', '            ', '        </ul>', '    </nav>', '    </div>', '    <div class=\"col-md-4 tags-box\">', '        ', '            <h2>Top Ten tags</h2>', '            ', '            <span class=\"tag-item\">', '            <a class=\"tag\" style=\"font-size: 28px\" href=\"/tag/love/\">love</a>', '            </span>', '            ', '            <span class=\"tag-item\">', '            <a class=\"tag\" style=\"font-size: 26px\" href=\"/tag/inspirational/\">inspirational</a>', '            </span>', '            ', '            <span class=\"tag-item\">', '            <a class=\"tag\" style=\"font-size: 26px\" href=\"/tag/life/\">life</a>', '            </span>', '            ', '            <span class=\"tag-item\">', '            <a class=\"tag\" style=\"font-size: 24px\" href=\"/tag/humor/\">humor</a>', '            </span>', '            ', '            <span class=\"tag-item\">', '            <a class=\"tag\" style=\"font-size: 22px\" href=\"/tag/books/\">books</a>', '            </span>', '            ', '            <span class=\"tag-item\">', '            <a class=\"tag\" style=\"font-size: 14px\" href=\"/tag/reading/\">reading</a>', '            </span>', '            ', '            <span class=\"tag-item\">', '            <a class=\"tag\" style=\"font-size: 10px\" href=\"/tag/friendship/\">friendship</a>', '            </span>', '            ', '            <span class=\"tag-item\">', '            <a class=\"tag\" style=\"font-size: 8px\" href=\"/tag/friends/\">friends</a>', '            </span>', '            ', '            <span class=\"tag-item\">', '            <a class=\"tag\" style=\"font-size: 8px\" href=\"/tag/truth/\">truth</a>', '            </span>', '            ', '            <span class=\"tag-item\">', '            <a class=\"tag\" style=\"font-size: 6px\" href=\"/tag/simile/\">simile</a>', '            </span>', '            ', '        ', '    </div>', '</div>', '', '    </div>', '    <footer class=\"footer\">', '        <div class=\"container\">', '            <p class=\"text-muted\">', '                Quotes by: <a href=\"https://www.goodreads.com/quotes\">GoodReads.com</a>', '            </p>', '            <p class=\"copyright\">', '                Made with <span class=\\'sh-red\\'>❤</span> by <a href=\"https://scrapinghub.com\">Scrapinghub</a>', '            </p>', '        </div>', '    </footer>', '</body>', '</html>']\n"
     ]
    }
   ],
   "source": [
    "html = r.text\n",
    "html = html.split('\\n')\n",
    "print(html)"
   ]
  },
  {
   "cell_type": "code",
   "execution_count": 29,
   "metadata": {},
   "outputs": [
    {
     "name": "stdout",
     "output_type": "stream",
     "text": [
      "Albert-Einstein\n",
      "J-K-Rowling\n",
      "Albert-Einstein\n",
      "Jane-Austen\n",
      "Marilyn-Monroe\n",
      "Albert-Einstein\n",
      "Andre-Gide\n",
      "Thomas-A-Edison\n",
      "Eleanor-Roosevelt\n",
      "Steve-Martin\n"
     ]
    }
   ],
   "source": [
    "import re\n",
    "for line in html:\n",
    "    if '<a href=\"/author/' in line:\n",
    "        line = re.search(r'[A-Z][a-zA-Z-]+', line).group(0)\n",
    "        print(line)"
   ]
  },
  {
   "cell_type": "code",
   "execution_count": 30,
   "metadata": {},
   "outputs": [
    {
     "name": "stdout",
     "output_type": "stream",
     "text": [
      "author_1st_page.txt  quote_1st_page.txt  test.ipynb  test.py\n"
     ]
    }
   ],
   "source": [
    "import os, sys\n",
    "\n",
    "if "
   ]
  },
  {
   "cell_type": "code",
   "execution_count": 31,
   "metadata": {},
   "outputs": [],
   "source": [
    "import csv"
   ]
  },
  {
   "cell_type": "code",
   "execution_count": 40,
   "metadata": {},
   "outputs": [],
   "source": [
    "# dic = {'Author': ['Anooj', 'Rajamohsn'],\n",
    "        # 'Quote': ['Helooo', 'How are you']}\n",
    "dic = [{'Author': 'Anooj', 'Quote': 'Helooo'}, \n",
    "    {'Author': 'Rajamohsn','Quote': 'How are you'}]\n"
   ]
  },
  {
   "cell_type": "code",
   "execution_count": 41,
   "metadata": {},
   "outputs": [],
   "source": [
    "from csv import DictWriter, writer\n",
    "\n",
    "\n",
    "with open('test.csv', 'w') as csvfile:\n",
    "    writer = csv.DictWriter(csvfile, ['Author', 'Quote'])\n",
    "    [writer.writerows(dic1) for dic1 in dic]"
   ]
  },
  {
   "cell_type": "code",
   "execution_count": null,
   "metadata": {},
   "outputs": [],
   "source": []
  },
  {
   "cell_type": "code",
   "execution_count": null,
   "metadata": {},
   "outputs": [],
   "source": []
  },
  {
   "cell_type": "code",
   "execution_count": null,
   "metadata": {},
   "outputs": [],
   "source": []
  },
  {
   "cell_type": "code",
   "execution_count": null,
   "metadata": {},
   "outputs": [],
   "source": []
  },
  {
   "cell_type": "code",
   "execution_count": null,
   "metadata": {},
   "outputs": [],
   "source": []
  },
  {
   "cell_type": "code",
   "execution_count": null,
   "metadata": {},
   "outputs": [],
   "source": []
  },
  {
   "cell_type": "code",
   "execution_count": null,
   "metadata": {},
   "outputs": [],
   "source": []
  },
  {
   "cell_type": "code",
   "execution_count": null,
   "metadata": {},
   "outputs": [],
   "source": []
  },
  {
   "cell_type": "code",
   "execution_count": null,
   "metadata": {},
   "outputs": [],
   "source": []
  },
  {
   "cell_type": "code",
   "execution_count": null,
   "metadata": {},
   "outputs": [],
   "source": []
  },
  {
   "cell_type": "code",
   "execution_count": null,
   "metadata": {},
   "outputs": [],
   "source": []
  },
  {
   "cell_type": "code",
   "execution_count": null,
   "metadata": {},
   "outputs": [],
   "source": []
  },
  {
   "cell_type": "code",
   "execution_count": null,
   "metadata": {},
   "outputs": [],
   "source": []
  },
  {
   "cell_type": "code",
   "execution_count": null,
   "metadata": {},
   "outputs": [],
   "source": []
  },
  {
   "cell_type": "code",
   "execution_count": null,
   "metadata": {},
   "outputs": [],
   "source": []
  },
  {
   "cell_type": "code",
   "execution_count": null,
   "metadata": {},
   "outputs": [],
   "source": []
  },
  {
   "cell_type": "code",
   "execution_count": null,
   "metadata": {},
   "outputs": [],
   "source": []
  },
  {
   "cell_type": "code",
   "execution_count": null,
   "metadata": {},
   "outputs": [],
   "source": []
  },
  {
   "cell_type": "code",
   "execution_count": null,
   "metadata": {},
   "outputs": [],
   "source": []
  },
  {
   "cell_type": "code",
   "execution_count": null,
   "metadata": {},
   "outputs": [],
   "source": []
  },
  {
   "cell_type": "code",
   "execution_count": null,
   "metadata": {},
   "outputs": [],
   "source": []
  },
  {
   "cell_type": "code",
   "execution_count": null,
   "metadata": {},
   "outputs": [],
   "source": []
  },
  {
   "cell_type": "code",
   "execution_count": null,
   "metadata": {},
   "outputs": [],
   "source": []
  },
  {
   "cell_type": "code",
   "execution_count": null,
   "metadata": {},
   "outputs": [],
   "source": []
  },
  {
   "cell_type": "code",
   "execution_count": null,
   "metadata": {},
   "outputs": [],
   "source": []
  },
  {
   "cell_type": "code",
   "execution_count": null,
   "metadata": {},
   "outputs": [],
   "source": []
  },
  {
   "cell_type": "code",
   "execution_count": null,
   "metadata": {},
   "outputs": [],
   "source": []
  },
  {
   "cell_type": "code",
   "execution_count": null,
   "metadata": {},
   "outputs": [],
   "source": []
  }
 ],
 "metadata": {
  "kernelspec": {
   "display_name": "Python 3.10.5 ('.scrape_env': venv)",
   "language": "python",
   "name": "python3"
  },
  "language_info": {
   "codemirror_mode": {
    "name": "ipython",
    "version": 3
   },
   "file_extension": ".py",
   "mimetype": "text/x-python",
   "name": "python",
   "nbconvert_exporter": "python",
   "pygments_lexer": "ipython3",
   "version": "3.10.5"
  },
  "orig_nbformat": 4,
  "vscode": {
   "interpreter": {
    "hash": "607027bbbcf3b6cf9c9d2d95816d706b313d02f3947f48c011331a28a5e39bab"
   }
  }
 },
 "nbformat": 4,
 "nbformat_minor": 2
}
